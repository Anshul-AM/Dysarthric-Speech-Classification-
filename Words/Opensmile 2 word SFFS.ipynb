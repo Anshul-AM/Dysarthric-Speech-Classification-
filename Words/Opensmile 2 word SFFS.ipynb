{
 "cells": [
  {
   "cell_type": "code",
   "execution_count": 25,
   "metadata": {},
   "outputs": [
    {
     "data": {
      "text/plain": [
       "array([False, False, False, ..., False, False, False])"
      ]
     },
     "execution_count": 25,
     "metadata": {},
     "output_type": "execute_result"
    }
   ],
   "source": [
    "import pandas as pd\n",
    "import numpy as np\n",
    "import matplotlib.pyplot as plt\n",
    "from sklearn.model_selection import LeaveOneGroupOut\n",
    "from sklearn.model_selection import GridSearchCV\n",
    "from sklearn.metrics import classification_report\n",
    "from sklearn import metrics\n",
    "from sklearn.svm import SVC\n",
    "from sklearn.preprocessing import StandardScaler\n",
    "from sklearn.feature_selection import SequentialFeatureSelector\n",
    "\n",
    "scaler = StandardScaler()\n",
    "\n",
    "vcedata = pd.read_csv(\"D:/final year project/project data/Word openSMILE 22.csv\")\n",
    "\n",
    "\n",
    "df = vcedata.drop(['row','class'],axis=1)\n",
    "y = vcedata['class']\n",
    "groups = vcedata['row']\n",
    "X = pd.DataFrame(scaler.fit_transform(df))\n",
    "\n",
    "svcclassifier = SVC(kernel='rbf', gamma=0.0001, C=10)\n",
    "\n",
    "sfs = SequentialFeatureSelector(svcclassifier, n_features_to_select=8)\n",
    "sfs.fit(X, y)\n",
    "sfs.get_support()"
   ]
  },
  {
   "cell_type": "code",
   "execution_count": 26,
   "metadata": {},
   "outputs": [],
   "source": [
    "X=sfs.transform(X)\n"
   ]
  },
  {
   "cell_type": "code",
   "execution_count": 27,
   "metadata": {},
   "outputs": [
    {
     "name": "stdout",
     "output_type": "stream",
     "text": [
      "The best parameters are {'C': 10, 'gamma': 0.1, 'kernel': 'rbf'} with a score of 0.97\n",
      "\n",
      "0.509 (+/-0.000) for {'C': 1, 'gamma': 0.0001, 'kernel': 'rbf'}\n",
      "\n",
      "0.952 (+/-0.047) for {'C': 1, 'gamma': 0.001, 'kernel': 'rbf'}\n",
      "\n",
      "0.955 (+/-0.030) for {'C': 1, 'gamma': 0.01, 'kernel': 'rbf'}\n",
      "\n",
      "0.963 (+/-0.035) for {'C': 1, 'gamma': 0.1, 'kernel': 'rbf'}\n",
      "\n",
      "0.950 (+/-0.046) for {'C': 10, 'gamma': 0.0001, 'kernel': 'rbf'}\n",
      "\n",
      "0.955 (+/-0.030) for {'C': 10, 'gamma': 0.001, 'kernel': 'rbf'}\n",
      "\n",
      "0.961 (+/-0.027) for {'C': 10, 'gamma': 0.01, 'kernel': 'rbf'}\n",
      "\n",
      "0.971 (+/-0.035) for {'C': 10, 'gamma': 0.1, 'kernel': 'rbf'}\n",
      "\n",
      "0.959 (+/-0.040) for {'C': 100, 'gamma': 0.0001, 'kernel': 'rbf'}\n",
      "\n",
      "0.959 (+/-0.021) for {'C': 100, 'gamma': 0.001, 'kernel': 'rbf'}\n",
      "\n",
      "0.964 (+/-0.045) for {'C': 100, 'gamma': 0.01, 'kernel': 'rbf'}\n",
      "\n",
      "0.959 (+/-0.037) for {'C': 100, 'gamma': 0.1, 'kernel': 'rbf'}\n",
      "\n",
      "0.959 (+/-0.021) for {'C': 1000, 'gamma': 0.0001, 'kernel': 'rbf'}\n",
      "\n",
      "0.957 (+/-0.031) for {'C': 1000, 'gamma': 0.001, 'kernel': 'rbf'}\n",
      "\n",
      "0.959 (+/-0.047) for {'C': 1000, 'gamma': 0.01, 'kernel': 'rbf'}\n",
      "\n",
      "0.950 (+/-0.021) for {'C': 1000, 'gamma': 0.1, 'kernel': 'rbf'}\n",
      "\n"
     ]
    }
   ],
   "source": [
    "from sklearn.model_selection import train_test_split\n",
    "X_train, X_test, y_train, y_test = train_test_split(X, y, test_size = 0.50, random_state=1)\n",
    "\n",
    "from sklearn.svm import SVC\n",
    "tuned_parameters = [{'kernel': ['rbf'], 'gamma': [0.0001,0.001,0.01,0.1], 'C': [1, 10, 100, 1000]}]\n",
    "svclassifier =  GridSearchCV(SVC(), tuned_parameters)\n",
    "\n",
    "svclassifier.fit(X_train, y_train)\n",
    "\n",
    "print(\"The best parameters are %s with a score of %0.2f\"% (svclassifier.best_params_, svclassifier.best_score_))\n",
    "print()\n",
    "means = svclassifier.cv_results_['mean_test_score']\n",
    "stds = svclassifier.cv_results_['std_test_score']\n",
    "for mean, std, params in zip(means, stds, svclassifier.cv_results_['params']):\n",
    "    print(\"%0.3f (+/-%0.03f) for %r\"% (mean, std * 2, params))\n",
    "    print()"
   ]
  },
  {
   "cell_type": "code",
   "execution_count": 42,
   "metadata": {},
   "outputs": [
    {
     "name": "stdout",
     "output_type": "stream",
     "text": [
      "0.95\n",
      "0.4625\n",
      "0.95\n",
      "0.9625\n",
      "0.975\n",
      "0.7375\n",
      "0.95\n",
      "0.975\n",
      "1.0\n",
      "1.0\n",
      "1.0\n",
      "0.975\n",
      "0.9625\n",
      "0.9375\n",
      "\n",
      "Classification accuracy computed as the ratio of number of correctly classified utterances to the total number of utterances is 91.69642857142857\n"
     ]
    }
   ],
   "source": [
    "from sklearn.svm import SVC\n",
    "logo = LeaveOneGroupOut()\n",
    "z=0\n",
    "\n",
    "for train_index, test_index in logo.split(X, y, groups=groups):\n",
    "\n",
    "    X_train, X_test = X[train_index], X[test_index]\n",
    "    y_train, y_test = y[train_index], y[test_index]\n",
    "\n",
    "    svcclassifier = SVC(kernel='rbf', gamma=0.0001, C=100)\n",
    "\n",
    "    svcclassifier.fit(X_train, y_train)\n",
    "    y_true, y_pred = y_test, svcclassifier.predict(X_test)\n",
    "    z=(metrics.accuracy_score(y_true, y_pred)*100)+z\n",
    "    print(metrics.accuracy_score(y_true, y_pred))\n",
    "    #print(y_test)\n",
    "    \n",
    "print()\n",
    "\n",
    "print(\"Classification accuracy computed as the ratio of number of correctly classified utterances to the total number of utterances is\", z/14)"
   ]
  },
  {
   "cell_type": "code",
   "execution_count": null,
   "metadata": {},
   "outputs": [],
   "source": []
  }
 ],
 "metadata": {
  "kernelspec": {
   "display_name": "Python 3",
   "language": "python",
   "name": "python3"
  },
  "language_info": {
   "codemirror_mode": {
    "name": "ipython",
    "version": 3
   },
   "file_extension": ".py",
   "mimetype": "text/x-python",
   "name": "python",
   "nbconvert_exporter": "python",
   "pygments_lexer": "ipython3",
   "version": "3.8.5"
  }
 },
 "nbformat": 4,
 "nbformat_minor": 4
}
