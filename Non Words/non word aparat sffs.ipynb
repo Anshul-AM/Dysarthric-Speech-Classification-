{
 "cells": [
  {
   "cell_type": "code",
   "execution_count": 5,
   "metadata": {},
   "outputs": [
    {
     "data": {
      "text/plain": [
       "array([ True,  True,  True,  True,  True,  True,  True,  True,  True,\n",
       "        True,  True,  True,  True,  True,  True,  True,  True,  True,\n",
       "        True,  True,  True,  True,  True,  True,  True,  True,  True,\n",
       "        True,  True,  True,  True,  True,  True,  True,  True,  True,\n",
       "        True,  True,  True,  True,  True,  True,  True,  True,  True,\n",
       "        True,  True,  True,  True,  True,  True,  True,  True,  True,\n",
       "        True,  True,  True,  True,  True,  True,  True,  True,  True,\n",
       "        True,  True,  True,  True,  True,  True,  True,  True,  True,\n",
       "       False, False, False, False,  True, False,  True, False,  True,\n",
       "        True,  True,  True,  True,  True,  True,  True, False, False,\n",
       "       False, False,  True, False,  True,  True,  True,  True,  True,\n",
       "        True,  True,  True,  True, False,  True,  True,  True,  True,\n",
       "        True,  True,  True,  True,  True,  True,  True,  True,  True,\n",
       "        True,  True,  True,  True,  True,  True,  True,  True,  True,\n",
       "        True,  True,  True,  True,  True,  True,  True,  True,  True,\n",
       "        True,  True,  True,  True,  True,  True,  True,  True,  True,\n",
       "        True,  True,  True,  True,  True,  True,  True, False,  True,\n",
       "        True,  True,  True,  True,  True,  True,  True,  True,  True,\n",
       "        True,  True,  True,  True,  True,  True,  True, False, False,\n",
       "        True, False, False,  True, False,  True,  True,  True,  True,\n",
       "        True,  True,  True, False, False, False,  True, False,  True,\n",
       "        True,  True,  True])"
      ]
     },
     "execution_count": 5,
     "metadata": {},
     "output_type": "execute_result"
    }
   ],
   "source": [
    "import pandas as pd\n",
    "import numpy as np\n",
    "import matplotlib.pyplot as plt\n",
    "from sklearn.model_selection import LeaveOneGroupOut\n",
    "from sklearn.model_selection import GridSearchCV\n",
    "from sklearn.metrics import classification_report\n",
    "from sklearn import metrics\n",
    "from sklearn.svm import SVC\n",
    "from sklearn.preprocessing import StandardScaler\n",
    "from sklearn.feature_selection import SequentialFeatureSelector\n",
    "\n",
    "#scaler = StandardScaler()\n",
    "\n",
    "vcedata = pd.read_csv(\"C:/Users/akshil/Downloads/Non word Aparat (1).csv\")\n",
    "\n",
    "X = vcedata.drop(['row','class'],axis=1)\n",
    "y = vcedata['class']\n",
    "groups = vcedata['row']\n",
    "#X = pd.DataFrame(scaler.fit_transform(df))\n",
    "\n",
    "svcclassifier = SVC(kernel='rbf', gamma=0.001, C=1)\n",
    "\n",
    "sfs = SequentialFeatureSelector(svcclassifier, n_features_to_select=170)\n",
    "sfs.fit(X, y)\n",
    "sfs.get_support()"
   ]
  },
  {
   "cell_type": "code",
   "execution_count": 6,
   "metadata": {},
   "outputs": [],
   "source": [
    "X=sfs.transform(X)"
   ]
  },
  {
   "cell_type": "code",
   "execution_count": 7,
   "metadata": {},
   "outputs": [
    {
     "name": "stdout",
     "output_type": "stream",
     "text": [
      "The best parameters are {'C': 10, 'gamma': 0.001, 'kernel': 'rbf'} with a score of 0.71\n",
      "\n",
      "0.662 (+/-0.062) for {'C': 1, 'gamma': 0.001, 'kernel': 'rbf'}\n",
      "\n",
      "0.700 (+/-0.123) for {'C': 1, 'gamma': 0.01, 'kernel': 'rbf'}\n",
      "\n",
      "0.700 (+/-0.123) for {'C': 1, 'gamma': 0.1, 'kernel': 'rbf'}\n",
      "\n",
      "0.715 (+/-0.140) for {'C': 10, 'gamma': 0.001, 'kernel': 'rbf'}\n",
      "\n",
      "0.700 (+/-0.123) for {'C': 10, 'gamma': 0.01, 'kernel': 'rbf'}\n",
      "\n",
      "0.700 (+/-0.123) for {'C': 10, 'gamma': 0.1, 'kernel': 'rbf'}\n",
      "\n",
      "0.715 (+/-0.140) for {'C': 100, 'gamma': 0.001, 'kernel': 'rbf'}\n",
      "\n",
      "0.700 (+/-0.123) for {'C': 100, 'gamma': 0.01, 'kernel': 'rbf'}\n",
      "\n",
      "0.700 (+/-0.123) for {'C': 100, 'gamma': 0.1, 'kernel': 'rbf'}\n",
      "\n",
      "0.715 (+/-0.140) for {'C': 1000, 'gamma': 0.001, 'kernel': 'rbf'}\n",
      "\n",
      "0.700 (+/-0.123) for {'C': 1000, 'gamma': 0.01, 'kernel': 'rbf'}\n",
      "\n",
      "0.700 (+/-0.123) for {'C': 1000, 'gamma': 0.1, 'kernel': 'rbf'}\n",
      "\n"
     ]
    }
   ],
   "source": [
    "from sklearn.model_selection import train_test_split\n",
    "X_train, X_test, y_train, y_test = train_test_split(X, y, test_size = 0.50, random_state=1)\n",
    "\n",
    "from sklearn.svm import SVC\n",
    "tuned_parameters = [{'kernel': ['rbf'], 'gamma': [0.001,0.01,0.1], 'C': [1, 10, 100, 1000]}]\n",
    "svclassifier =  GridSearchCV(SVC(), tuned_parameters)\n",
    "\n",
    "svclassifier.fit(X_train, y_train)\n",
    "\n",
    "print(\"The best parameters are %s with a score of %0.2f\"% (svclassifier.best_params_, svclassifier.best_score_))\n",
    "print()\n",
    "means = svclassifier.cv_results_['mean_test_score']\n",
    "stds = svclassifier.cv_results_['std_test_score']\n",
    "for mean, std, params in zip(means, stds, svclassifier.cv_results_['params']):\n",
    "    print(\"%0.3f (+/-%0.03f) for %r\"% (mean, std * 2, params))\n",
    "    print()"
   ]
  },
  {
   "cell_type": "code",
   "execution_count": 11,
   "metadata": {},
   "outputs": [
    {
     "name": "stdout",
     "output_type": "stream",
     "text": [
      "1.0\n",
      "1.0\n",
      "1.0\n",
      "0.875\n",
      "0.875\n",
      "0.0\n",
      "1.0\n",
      "1.0\n",
      "1.0\n",
      "1.0\n",
      "1.0\n",
      "0.0\n",
      "0.0\n",
      "1.0\n",
      "1.0\n",
      "\n",
      "Classification accuracy computed as the ratio of number of correctly classified utterances to the total number of utterances is 78.33333333333333\n"
     ]
    }
   ],
   "source": [
    "from sklearn.svm import SVC\n",
    "logo = LeaveOneGroupOut()\n",
    "z=0\n",
    "\n",
    "for train_index, test_index in logo.split(X, y, groups=groups):\n",
    "\n",
    "    X_train, X_test = X[train_index], X[test_index]\n",
    "    y_train, y_test = y[train_index], y[test_index]\n",
    "\n",
    "    svcclassifier = SVC(kernel='rbf', gamma=0.1, C=10)\n",
    "\n",
    "    svcclassifier.fit(X_train, y_train)\n",
    "    y_true, y_pred = y_test, svcclassifier.predict(X_test)\n",
    "    z=(metrics.accuracy_score(y_true, y_pred)*100)+z\n",
    "    print(metrics.accuracy_score(y_true, y_pred))\n",
    "    #print(y_test,\" \",y_pred)\n",
    "    \n",
    "print()\n",
    "\n",
    "print(\"Classification accuracy computed as the ratio of number of correctly classified utterances to the total number of utterances is\", z/15)"
   ]
  },
  {
   "cell_type": "code",
   "execution_count": null,
   "metadata": {},
   "outputs": [],
   "source": []
  }
 ],
 "metadata": {
  "kernelspec": {
   "display_name": "Python 3",
   "language": "python",
   "name": "python3"
  },
  "language_info": {
   "codemirror_mode": {
    "name": "ipython",
    "version": 3
   },
   "file_extension": ".py",
   "mimetype": "text/x-python",
   "name": "python",
   "nbconvert_exporter": "python",
   "pygments_lexer": "ipython3",
   "version": "3.8.5"
  }
 },
 "nbformat": 4,
 "nbformat_minor": 4
}
